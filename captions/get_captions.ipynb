{
 "cells": [
  {
   "cell_type": "markdown",
   "metadata": {},
   "source": [
    "# <p style= \"text-align: center\"> Getting the youtube captions using the Requests package </p>\n",
    "\n",
    "This notebook has the documentation, import, get_captions function, and calling section. Finally there is an appendix used to test and debug de code"
   ]
  },
  {
   "cell_type": "markdown",
   "metadata": {},
   "source": [
    "## Index:\n",
    "* [Documentation](#Documentation-of-the-youtube-API-caption-chapter)\n",
    "* [Import](#Import-packages)\n",
    "* [Function get_captions](#Function-get_captions)\n",
    "* [Call the function](#Call-the-function)\n",
    "* [Apendix - test and debug](#Appendix)"
   ]
  },
  {
   "cell_type": "markdown",
   "metadata": {},
   "source": [
    "_________________________________"
   ]
  },
  {
   "cell_type": "markdown",
   "metadata": {},
   "source": [
    "**Here is the documentation used to create the function for calling the youtube API.**"
   ]
  },
  {
   "cell_type": "markdown",
   "metadata": {},
   "source": [
    "## Documentation of the youtube API caption chapter\n",
    "https://developers.google.com/youtube/v3/docs/captions#snippet.trackKind"
   ]
  },
  {
   "cell_type": "markdown",
   "metadata": {},
   "source": [
    "## Documentation for the auth with Requests\n",
    "\n",
    "The youtube API for getting the captions, requires an authentication, here is some documentation for making this process\n",
    "\n",
    "https://requests.readthedocs.io/en/master/user/authentication/"
   ]
  },
  {
   "cell_type": "markdown",
   "metadata": {},
   "source": [
    "__________________"
   ]
  },
  {
   "cell_type": "markdown",
   "metadata": {},
   "source": [
    "## Import packages"
   ]
  },
  {
   "cell_type": "code",
   "execution_count": 2,
   "metadata": {},
   "outputs": [
    {
     "name": "stdout",
     "output_type": "stream",
     "text": [
      "done\n"
     ]
    }
   ],
   "source": [
    "import requests\n",
    "import json\n",
    "\n",
    "\n",
    "# Tried this libraries with no success importing them.... it may be a good idea \n",
    "# to install them before trying to import them\n",
    "\n",
    "from requests_oauthlib import OAuth1\n",
    "from oauthlib.oauth2 import BackendApplicationClient\n",
    "from requests.auth import HTTPBasicAuth\n",
    "from requests_oauthlib import OAuth2Session\n",
    "\n",
    "\n",
    "\n",
    "print('done')"
   ]
  },
  {
   "cell_type": "markdown",
   "metadata": {},
   "source": [
    "## Function get_captions"
   ]
  },
  {
   "cell_type": "code",
   "execution_count": 15,
   "metadata": {},
   "outputs": [],
   "source": [
    "# Function to get the information about the captions: languages available, status, etc. In a json format\n",
    "# to access the youtube API\n",
    "\n",
    "def get_captions(videoId, APIkey):\n",
    "    # Setting the variables to query the youtube API\n",
    "    url = 'https://www.googleapis.com/youtube/v3/captions'\n",
    "    payload = {'videoId': videoId, 'part':'snippet', 'key': APIkey}\n",
    "    r = requests.get(url, params = payload)\n",
    "    json_data = json.loads(r.text)\n",
    "    # Parameters to get the desired caption from youtube\n",
    "    caption_id = ''\n",
    "    desired_lang = 'en-US'\n",
    "    default_lang = 'en'\n",
    "    status = 'serving'\n",
    "    kind = 'standard'\n",
    "    alt_kind = 'ASR'\n",
    "    \n",
    "    # Parsing the list of available captions and getting the caption id by \n",
    "    # picking the desired language, and kind\n",
    "    for i in json_data['items']:\n",
    "        if desired_lang == i['snippet']['language'] and \\\n",
    "        i['snippet']['status']== status and i['snippet']['trackKind'] == kind:\n",
    "            caption_id = i['id']\n",
    "            break\n",
    "        elif default_lang == i['snippet']['language'] and \\\n",
    "        i['snippet']['status']== status and i['snippet']['trackKind'] == kind:\n",
    "            caption_id = i['id']\n",
    "        elif default_lang == i['snippet']['language'] and \\\n",
    "        i['snippet']['status']== status and i['snippet']['trackKind'] == alt_kind:\n",
    "            caption_id = i['id']\n",
    "    # Extract the captions with the caption_id \n",
    "    try: \n",
    "        caption_r = requests.get(url + '/' + caption_id + '?key=' + APIkey)\n",
    "        caption = caption_r.text\n",
    "    except:\n",
    "        caption = 'Caption query failed from the Youtube API, still requires an authentication'\n",
    "\n",
    "    return caption_id, caption\n"
   ]
  },
  {
   "cell_type": "markdown",
   "metadata": {},
   "source": [
    "## Call the function"
   ]
  },
  {
   "cell_type": "code",
   "execution_count": 16,
   "metadata": {},
   "outputs": [
    {
     "name": "stdout",
     "output_type": "stream",
     "text": [
      "Desired id: TqXDnlamg84o4bX0q2oaHw_Y53ilUWv6vMFbk0RL3XY=\n",
      "Caption: Login Required\n"
     ]
    }
   ],
   "source": [
    "# Getting the credentials and calling the function to access the youtube API \n",
    "with open('credentials.json', 'r') as f:\n",
    "    credentials = json.load(f)\n",
    "APIkey = credentials['APIkey']\n",
    "videoId = 'U1e2VNtEqm4'\n",
    "caption_id, caption = get_captions(videoId, APIkey)\n",
    "print('Desired id: {}\\nCaption: {}'.format(caption_id,caption))\n"
   ]
  },
  {
   "cell_type": "markdown",
   "metadata": {},
   "source": [
    "___"
   ]
  },
  {
   "cell_type": "markdown",
   "metadata": {},
   "source": [
    "## Appendix\n",
    "**From here is just some testing and debbuging**"
   ]
  },
  {
   "cell_type": "code",
   "execution_count": 12,
   "metadata": {},
   "outputs": [
    {
     "name": "stdout",
     "output_type": "stream",
     "text": [
      "id:\t826332469815-c8mum19tcmgu2sdfpoharnd35mo43mak.apps.googleusercontent.com\n",
      "secret:\t1EBF5dSyUDKecPXRkoj1QJ3q\n",
      "token_uri:\thttps://oauth2.googleapis.com/token\n",
      "auth_uri:\thttps://accounts.google.com/o/oauth2/auth\n",
      "scope:\t['https://www.googleapis.com/auth/youtube.force-ssl']\n"
     ]
    }
   ],
   "source": [
    "with open('secreto_cliente.json', 'r') as f:\n",
    "    secrets = json.load(f)\n",
    "\n",
    "client_id = secrets['web']['client_id']\n",
    "client_secret = secrets['web'] ['client_secret']\n",
    "token_uri = secrets['web']['token_uri']\n",
    "auth_uri = secrets['web']['auth_uri']\n",
    "scope = ['https://www.googleapis.com/auth/youtube.force-ssl']\n",
    "#             #\\,\\'https://www.googleapis.com/auth/youtubepartner']\n",
    "\n",
    "\n",
    "print('id:\\t{}\\nsecret:\\t{}\\ntoken_uri:\\t{}\\nauth_uri:\\t{}'.format(client_id, client_secret, token_uri, auth_uri))\n",
    "print('scope:\\t{}'.format(scope))"
   ]
  },
  {
   "cell_type": "markdown",
   "metadata": {},
   "source": [
    "https://stackoverflow.com/questions/44893271/python-downloading-captions-from-youtube\n"
   ]
  },
  {
   "cell_type": "code",
   "execution_count": 15,
   "metadata": {},
   "outputs": [
    {
     "ename": "UnsupportedGrantTypeError",
     "evalue": "(unsupported_grant_type) Invalid grant_type: client_credentials",
     "output_type": "error",
     "traceback": [
      "\u001b[1;31m---------------------------------------------------------------------------\u001b[0m",
      "\u001b[1;31mUnsupportedGrantTypeError\u001b[0m                 Traceback (most recent call last)",
      "\u001b[1;32m<ipython-input-15-055345864870>\u001b[0m in \u001b[0;36m<module>\u001b[1;34m\u001b[0m\n\u001b[0;32m      6\u001b[0m \u001b[0mgoogle\u001b[0m \u001b[1;33m=\u001b[0m \u001b[0mOAuth2Session\u001b[0m\u001b[1;33m(\u001b[0m\u001b[0mclient\u001b[0m\u001b[1;33m=\u001b[0m\u001b[0mclient\u001b[0m\u001b[1;33m,\u001b[0m \u001b[0mscope\u001b[0m\u001b[1;33m=\u001b[0m\u001b[0mscope\u001b[0m\u001b[1;33m)\u001b[0m\u001b[1;33m\u001b[0m\u001b[1;33m\u001b[0m\u001b[0m\n\u001b[0;32m      7\u001b[0m \u001b[1;31m# authorization_url, state = google.authorization_url(auth_uri, access_type='offline')\u001b[0m\u001b[1;33m\u001b[0m\u001b[1;33m\u001b[0m\u001b[1;33m\u001b[0m\u001b[0m\n\u001b[1;32m----> 8\u001b[1;33m \u001b[0mgoogle\u001b[0m\u001b[1;33m.\u001b[0m\u001b[0mfetch_token\u001b[0m\u001b[1;33m(\u001b[0m\u001b[0mtoken_url\u001b[0m \u001b[1;33m=\u001b[0m \u001b[0mtoken_uri\u001b[0m\u001b[1;33m,\u001b[0m \u001b[0mclient_id\u001b[0m\u001b[1;33m=\u001b[0m\u001b[0mclient_id\u001b[0m\u001b[1;33m,\u001b[0m \u001b[0mclient_secret\u001b[0m\u001b[1;33m=\u001b[0m\u001b[0mclient_secret\u001b[0m\u001b[1;33m)\u001b[0m\u001b[1;33m\u001b[0m\u001b[1;33m\u001b[0m\u001b[0m\n\u001b[0m\u001b[0;32m      9\u001b[0m \u001b[0mr\u001b[0m \u001b[1;33m=\u001b[0m \u001b[0mgoogle\u001b[0m\u001b[1;33m.\u001b[0m\u001b[0mget\u001b[0m\u001b[1;33m(\u001b[0m\u001b[0murl\u001b[0m\u001b[1;33m)\u001b[0m\u001b[1;33m\u001b[0m\u001b[1;33m\u001b[0m\u001b[0m\n\u001b[0;32m     10\u001b[0m \u001b[0mprint\u001b[0m\u001b[1;33m(\u001b[0m\u001b[0mr\u001b[0m\u001b[1;33m.\u001b[0m\u001b[0mcontent\u001b[0m\u001b[1;33m)\u001b[0m\u001b[1;33m\u001b[0m\u001b[1;33m\u001b[0m\u001b[0m\n",
      "\u001b[1;32m~\\Anaconda3\\envs\\DS4A_test\\lib\\site-packages\\requests_oauthlib\\oauth2_session.py\u001b[0m in \u001b[0;36mfetch_token\u001b[1;34m(self, token_url, code, authorization_response, body, auth, username, password, method, force_querystring, timeout, headers, verify, proxies, include_client_id, client_secret, **kwargs)\u001b[0m\n\u001b[0;32m    358\u001b[0m             \u001b[0mr\u001b[0m \u001b[1;33m=\u001b[0m \u001b[0mhook\u001b[0m\u001b[1;33m(\u001b[0m\u001b[0mr\u001b[0m\u001b[1;33m)\u001b[0m\u001b[1;33m\u001b[0m\u001b[1;33m\u001b[0m\u001b[0m\n\u001b[0;32m    359\u001b[0m \u001b[1;33m\u001b[0m\u001b[0m\n\u001b[1;32m--> 360\u001b[1;33m         \u001b[0mself\u001b[0m\u001b[1;33m.\u001b[0m\u001b[0m_client\u001b[0m\u001b[1;33m.\u001b[0m\u001b[0mparse_request_body_response\u001b[0m\u001b[1;33m(\u001b[0m\u001b[0mr\u001b[0m\u001b[1;33m.\u001b[0m\u001b[0mtext\u001b[0m\u001b[1;33m,\u001b[0m \u001b[0mscope\u001b[0m\u001b[1;33m=\u001b[0m\u001b[0mself\u001b[0m\u001b[1;33m.\u001b[0m\u001b[0mscope\u001b[0m\u001b[1;33m)\u001b[0m\u001b[1;33m\u001b[0m\u001b[1;33m\u001b[0m\u001b[0m\n\u001b[0m\u001b[0;32m    361\u001b[0m         \u001b[0mself\u001b[0m\u001b[1;33m.\u001b[0m\u001b[0mtoken\u001b[0m \u001b[1;33m=\u001b[0m \u001b[0mself\u001b[0m\u001b[1;33m.\u001b[0m\u001b[0m_client\u001b[0m\u001b[1;33m.\u001b[0m\u001b[0mtoken\u001b[0m\u001b[1;33m\u001b[0m\u001b[1;33m\u001b[0m\u001b[0m\n\u001b[0;32m    362\u001b[0m         \u001b[0mlog\u001b[0m\u001b[1;33m.\u001b[0m\u001b[0mdebug\u001b[0m\u001b[1;33m(\u001b[0m\u001b[1;34m\"Obtained token %s.\"\u001b[0m\u001b[1;33m,\u001b[0m \u001b[0mself\u001b[0m\u001b[1;33m.\u001b[0m\u001b[0mtoken\u001b[0m\u001b[1;33m)\u001b[0m\u001b[1;33m\u001b[0m\u001b[1;33m\u001b[0m\u001b[0m\n",
      "\u001b[1;32m~\\Anaconda3\\envs\\DS4A_test\\lib\\site-packages\\oauthlib\\oauth2\\rfc6749\\clients\\base.py\u001b[0m in \u001b[0;36mparse_request_body_response\u001b[1;34m(self, body, scope, **kwargs)\u001b[0m\n\u001b[0;32m    419\u001b[0m         \u001b[1;33m.\u001b[0m\u001b[1;33m.\u001b[0m \u001b[0m_\u001b[0m\u001b[0;31m`\u001b[0m\u001b[0mSection\u001b[0m \u001b[1;36m7.1\u001b[0m\u001b[0;31m`\u001b[0m\u001b[1;33m:\u001b[0m \u001b[0mhttps\u001b[0m\u001b[1;33m:\u001b[0m\u001b[1;33m//\u001b[0m\u001b[0mtools\u001b[0m\u001b[1;33m.\u001b[0m\u001b[0mietf\u001b[0m\u001b[1;33m.\u001b[0m\u001b[0morg\u001b[0m\u001b[1;33m/\u001b[0m\u001b[0mhtml\u001b[0m\u001b[1;33m/\u001b[0m\u001b[0mrfc6749\u001b[0m\u001b[1;31m#section-7.1\u001b[0m\u001b[1;33m\u001b[0m\u001b[1;33m\u001b[0m\u001b[0m\n\u001b[0;32m    420\u001b[0m         \"\"\"\n\u001b[1;32m--> 421\u001b[1;33m         \u001b[0mself\u001b[0m\u001b[1;33m.\u001b[0m\u001b[0mtoken\u001b[0m \u001b[1;33m=\u001b[0m \u001b[0mparse_token_response\u001b[0m\u001b[1;33m(\u001b[0m\u001b[0mbody\u001b[0m\u001b[1;33m,\u001b[0m \u001b[0mscope\u001b[0m\u001b[1;33m=\u001b[0m\u001b[0mscope\u001b[0m\u001b[1;33m)\u001b[0m\u001b[1;33m\u001b[0m\u001b[1;33m\u001b[0m\u001b[0m\n\u001b[0m\u001b[0;32m    422\u001b[0m         \u001b[0mself\u001b[0m\u001b[1;33m.\u001b[0m\u001b[0mpopulate_token_attributes\u001b[0m\u001b[1;33m(\u001b[0m\u001b[0mself\u001b[0m\u001b[1;33m.\u001b[0m\u001b[0mtoken\u001b[0m\u001b[1;33m)\u001b[0m\u001b[1;33m\u001b[0m\u001b[1;33m\u001b[0m\u001b[0m\n\u001b[0;32m    423\u001b[0m         \u001b[1;32mreturn\u001b[0m \u001b[0mself\u001b[0m\u001b[1;33m.\u001b[0m\u001b[0mtoken\u001b[0m\u001b[1;33m\u001b[0m\u001b[1;33m\u001b[0m\u001b[0m\n",
      "\u001b[1;32m~\\Anaconda3\\envs\\DS4A_test\\lib\\site-packages\\oauthlib\\oauth2\\rfc6749\\parameters.py\u001b[0m in \u001b[0;36mparse_token_response\u001b[1;34m(body, scope)\u001b[0m\n\u001b[0;32m    429\u001b[0m \u001b[1;33m\u001b[0m\u001b[0m\n\u001b[0;32m    430\u001b[0m     \u001b[0mparams\u001b[0m \u001b[1;33m=\u001b[0m \u001b[0mOAuth2Token\u001b[0m\u001b[1;33m(\u001b[0m\u001b[0mparams\u001b[0m\u001b[1;33m,\u001b[0m \u001b[0mold_scope\u001b[0m\u001b[1;33m=\u001b[0m\u001b[0mscope\u001b[0m\u001b[1;33m)\u001b[0m\u001b[1;33m\u001b[0m\u001b[1;33m\u001b[0m\u001b[0m\n\u001b[1;32m--> 431\u001b[1;33m     \u001b[0mvalidate_token_parameters\u001b[0m\u001b[1;33m(\u001b[0m\u001b[0mparams\u001b[0m\u001b[1;33m)\u001b[0m\u001b[1;33m\u001b[0m\u001b[1;33m\u001b[0m\u001b[0m\n\u001b[0m\u001b[0;32m    432\u001b[0m     \u001b[1;32mreturn\u001b[0m \u001b[0mparams\u001b[0m\u001b[1;33m\u001b[0m\u001b[1;33m\u001b[0m\u001b[0m\n\u001b[0;32m    433\u001b[0m \u001b[1;33m\u001b[0m\u001b[0m\n",
      "\u001b[1;32m~\\Anaconda3\\envs\\DS4A_test\\lib\\site-packages\\oauthlib\\oauth2\\rfc6749\\parameters.py\u001b[0m in \u001b[0;36mvalidate_token_parameters\u001b[1;34m(params)\u001b[0m\n\u001b[0;32m    436\u001b[0m     \u001b[1;34m\"\"\"Ensures token precence, token type, expiration and scope in params.\"\"\"\u001b[0m\u001b[1;33m\u001b[0m\u001b[1;33m\u001b[0m\u001b[0m\n\u001b[0;32m    437\u001b[0m     \u001b[1;32mif\u001b[0m \u001b[1;34m'error'\u001b[0m \u001b[1;32min\u001b[0m \u001b[0mparams\u001b[0m\u001b[1;33m:\u001b[0m\u001b[1;33m\u001b[0m\u001b[1;33m\u001b[0m\u001b[0m\n\u001b[1;32m--> 438\u001b[1;33m         \u001b[0mraise_from_error\u001b[0m\u001b[1;33m(\u001b[0m\u001b[0mparams\u001b[0m\u001b[1;33m.\u001b[0m\u001b[0mget\u001b[0m\u001b[1;33m(\u001b[0m\u001b[1;34m'error'\u001b[0m\u001b[1;33m)\u001b[0m\u001b[1;33m,\u001b[0m \u001b[0mparams\u001b[0m\u001b[1;33m)\u001b[0m\u001b[1;33m\u001b[0m\u001b[1;33m\u001b[0m\u001b[0m\n\u001b[0m\u001b[0;32m    439\u001b[0m \u001b[1;33m\u001b[0m\u001b[0m\n\u001b[0;32m    440\u001b[0m     \u001b[1;32mif\u001b[0m \u001b[1;32mnot\u001b[0m \u001b[1;34m'access_token'\u001b[0m \u001b[1;32min\u001b[0m \u001b[0mparams\u001b[0m\u001b[1;33m:\u001b[0m\u001b[1;33m\u001b[0m\u001b[1;33m\u001b[0m\u001b[0m\n",
      "\u001b[1;32m~\\Anaconda3\\envs\\DS4A_test\\lib\\site-packages\\oauthlib\\oauth2\\rfc6749\\errors.py\u001b[0m in \u001b[0;36mraise_from_error\u001b[1;34m(error, params)\u001b[0m\n\u001b[0;32m    403\u001b[0m     \u001b[1;32mfor\u001b[0m \u001b[0m_\u001b[0m\u001b[1;33m,\u001b[0m \u001b[0mcls\u001b[0m \u001b[1;32min\u001b[0m \u001b[0minspect\u001b[0m\u001b[1;33m.\u001b[0m\u001b[0mgetmembers\u001b[0m\u001b[1;33m(\u001b[0m\u001b[0msys\u001b[0m\u001b[1;33m.\u001b[0m\u001b[0mmodules\u001b[0m\u001b[1;33m[\u001b[0m\u001b[0m__name__\u001b[0m\u001b[1;33m]\u001b[0m\u001b[1;33m,\u001b[0m \u001b[0minspect\u001b[0m\u001b[1;33m.\u001b[0m\u001b[0misclass\u001b[0m\u001b[1;33m)\u001b[0m\u001b[1;33m:\u001b[0m\u001b[1;33m\u001b[0m\u001b[1;33m\u001b[0m\u001b[0m\n\u001b[0;32m    404\u001b[0m         \u001b[1;32mif\u001b[0m \u001b[0mcls\u001b[0m\u001b[1;33m.\u001b[0m\u001b[0merror\u001b[0m \u001b[1;33m==\u001b[0m \u001b[0merror\u001b[0m\u001b[1;33m:\u001b[0m\u001b[1;33m\u001b[0m\u001b[1;33m\u001b[0m\u001b[0m\n\u001b[1;32m--> 405\u001b[1;33m             \u001b[1;32mraise\u001b[0m \u001b[0mcls\u001b[0m\u001b[1;33m(\u001b[0m\u001b[1;33m**\u001b[0m\u001b[0mkwargs\u001b[0m\u001b[1;33m)\u001b[0m\u001b[1;33m\u001b[0m\u001b[1;33m\u001b[0m\u001b[0m\n\u001b[0m\u001b[0;32m    406\u001b[0m     \u001b[1;32mraise\u001b[0m \u001b[0mCustomOAuth2Error\u001b[0m\u001b[1;33m(\u001b[0m\u001b[0merror\u001b[0m\u001b[1;33m=\u001b[0m\u001b[0merror\u001b[0m\u001b[1;33m,\u001b[0m \u001b[1;33m**\u001b[0m\u001b[0mkwargs\u001b[0m\u001b[1;33m)\u001b[0m\u001b[1;33m\u001b[0m\u001b[1;33m\u001b[0m\u001b[0m\n",
      "\u001b[1;31mUnsupportedGrantTypeError\u001b[0m: (unsupported_grant_type) Invalid grant_type: client_credentials"
     ]
    }
   ],
   "source": [
    "url = 'https://www.googleapis.com/youtube/v3/captions/DE7ZvSHejpcZnyPbiAX6Vmk5k93nEsB8LvZedyrRX3E='\n",
    "\n",
    "#Google example\n",
    "client = BackendApplicationClient(client_id=client_id)\n",
    "# auth = HTTPBasicAuth(client_id, client_secret)\n",
    "google = OAuth2Session(client=client, scope=scope)\n",
    "# authorization_url, state = google.authorization_url(auth_uri, access_type='offline')\n",
    "google.fetch_token(token_url = token_uri, client_id=client_id, client_secret=client_secret)\n",
    "r = google.get(url)\n",
    "print(r.content)\n",
    "\n",
    "#Docs\n",
    "# client = BackendApplicationClient(client_id=client_id)\n",
    "# oauth = OAuth2Session(client=client)\n",
    "# token = oauth.fetch_token(token_url=token_uri, client_id=client_id, client_secret=client_secret)\n",
    "\n",
    "#Docs basic auth header\n",
    "# auth = HTTPBasicAuth(client_id, client_secret)\n",
    "# client = BackendApplicationClient(client_id=client_id)\n",
    "# oauth = OAuth2Session(client=client)\n",
    "# token = oauth.fetch_token(token_url = token_uri, auth=auth)\n",
    "\n",
    "\n",
    "\n",
    "\n",
    "#download the package by:  pip install pytube\n",
    "from pytube import YouTube\n",
    "\n",
    "source = YouTube('https://www.youtube.com/watch?v=wjTn_EkgQRg&index=1&list=PLgJ7b1NurjD2oN5ZXbKbPjuI04d_S0V1K')\n",
    "\n",
    "\n",
    "en_caption = source.captions.get_by_language_code('en')\n",
    "\n",
    "en_caption_convert_to_srt =(en_caption.generate_srt_captions())\n",
    "\n",
    "print(en_caption_convert_to_srt)\n",
    "#save the caption to a file named Output.txt\n",
    "text_file = open(\"Output.txt\", \"w\")\n",
    "text_file.write(en_caption_convert_to_srt)\n",
    "text_file.close()\n",
    "\n"
   ]
  },
  {
   "cell_type": "code",
   "execution_count": null,
   "metadata": {},
   "outputs": [],
   "source": [
    "print(data)"
   ]
  },
  {
   "cell_type": "code",
   "execution_count": null,
   "metadata": {},
   "outputs": [],
   "source": [
    "with open('bob_captions.json', 'w') as f:\n",
    "    f.write(data)"
   ]
  },
  {
   "cell_type": "code",
   "execution_count": null,
   "metadata": {},
   "outputs": [],
   "source": [
    "# data[\"items\"]\n",
    "print(type(data))\n",
    "# json_data = json.loads('bob_captions.json')\n",
    "json_data = json.loads(data)"
   ]
  },
  {
   "cell_type": "code",
   "execution_count": null,
   "metadata": {},
   "outputs": [],
   "source": [
    "caption_id = ''\n",
    "desired_lang = 'en-US'\n",
    "default_lang = 'en'\n",
    "status = 'serving'\n",
    "kind = 'standard'\n",
    "alt_kind = 'ASR'\n",
    "for i in json_data['items']:\n",
    "    if desired_lang == i['snippet']['language'] and \\\n",
    "    i['snippet']['status']== status and i['snippet']['trackKind'] == kind:\n",
    "        caption_id = i['id']\n",
    "        break\n",
    "    elif default_lang == i['snippet']['language'] and \\\n",
    "    i['snippet']['status']== status and i['snippet']['trackKind'] == kind:\n",
    "        caption_id = i['id']\n",
    "    elif default_lang == i['snippet']['language'] and \\\n",
    "    i['snippet']['status']== status and i['snippet']['trackKind'] == alt_kind:\n",
    "        caption_id = i['id']\n",
    "    print('id: {}\\nlanguage: {}\\nstatus: {}\\nkind: {}\\n'.\\\n",
    "          format(i['id'], i['snippet']['language'],i['snippet']['status'], i['snippet']['trackKind'] ))\n",
    "print(caption_id, i['snippet']['language'])"
   ]
  }
 ],
 "metadata": {
  "kernelspec": {
   "display_name": "Python 3",
   "language": "python",
   "name": "python3"
  },
  "language_info": {
   "codemirror_mode": {
    "name": "ipython",
    "version": 3
   },
   "file_extension": ".py",
   "mimetype": "text/x-python",
   "name": "python",
   "nbconvert_exporter": "python",
   "pygments_lexer": "ipython3",
   "version": "3.7.3"
  }
 },
 "nbformat": 4,
 "nbformat_minor": 4
}
