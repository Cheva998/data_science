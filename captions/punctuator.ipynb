{
 "cells": [
  {
   "cell_type": "code",
   "execution_count": 1,
   "metadata": {},
   "outputs": [
    {
     "name": "stderr",
     "output_type": "stream",
     "text": [
      "WARNING (theano.configdefaults): g++ not available, if using conda: `conda install m2w64-toolchain`\n",
      "C:\\Users\\320\\Anaconda3\\envs\\DS4A_test\\lib\\site-packages\\theano\\configdefaults.py:560: UserWarning: DeprecationWarning: there is no c++ compiler.This is deprecated and with Theano 0.11 a c++ compiler will be mandatory\n",
      "  warnings.warn(\"DeprecationWarning: there is no c++ compiler.\"\n",
      "WARNING (theano.configdefaults): g++ not detected ! Theano will be unable to execute optimized C-implementations (for both CPU and GPU) and will default to Python implementations. Performance will be severely degraded. To remove this warning, set Theano flags cxx to an empty string.\n",
      "WARNING (theano.tensor.blas): Using NumPy C-API based implementation for BLAS functions.\n"
     ]
    },
    {
     "name": "stdout",
     "output_type": "stream",
     "text": [
      "done\n"
     ]
    }
   ],
   "source": [
    "from punctuator import Punctuator\n",
    "print('done')"
   ]
  },
  {
   "cell_type": "code",
   "execution_count": 2,
   "metadata": {},
   "outputs": [],
   "source": [
    "text_ = \"\"\"and now there's a new form of cyber matchmaking College networking websites is this perhaps the next big thing in Hartford Dan Stillman co-creator of Lesley in University's West match.com and then in Watertown Massachusetts Mark Zuckerberg creative creator of Harvard's the facebook.com and I guess we'll start with you Dan what compelled you to do this oh well sophomore year I was sitting around contemplating a romantic dry spell and I realized that with my friend Matt and he realized that it would be easier to find a girlfriend if I could just search in a database for what I wanted did it work one two we're still perfecting it that's what West matches right this is something where people enter all of their information on questionnaires that they kind of fill out for you to it's just a little bit about what West matches sure people students at our school and now several other schools lay a log onto the site and the answer an in-depth and humorous questionnaire about what they're looking for and others and they describe themselves and they say what's important and then our site comes back and tells them they're most compatible people in the entire school and now since we've started expanding to other schools they can now test a compatibility and do other things with students across the nation okay mark we want to get you in here a second but real quickly we do want to talk about what Dan's talking about some of those questionnaires that that you ask people about let's just take a look real quickly at some of them first of all one of the potential questions awareness of current events and you could check off one of these George Bush was that guy that did that thing with that intern well like I read the news on occasion and I read the news every day so there's some of the evaluation of what's going on mark if somebody was to put the question to you about the the magnitude of what you think you've launched how big do you think your product or your service is well it's impossible to tell when we first launched we were hoping for you know maybe four hundred five hundred people Harvard didn't have a Facebook so that's the gap that we were trying to fill and now we're at a hundred thousand people so who knows where we're going next we're hoping to have many more universities by the fall hopefully over a hundred or two hundred and four there we're going to launch a bunch of sad applications which should keep people coming back to the site and maybe could make something cool what is the Facebook exactly it's an online directory that connects people through universities and colleges through their social networks there you sign on you make a profile about yourself by answering some questions and during some information such as your concentration or major at school contact information about phone numbers instant messaging screen names anything you want to tell interests what books you like movies and most importantly who your friends are and then you can browse around and see you people's friends are and just check out people's online identities and see how people portray themselves and just find some interesting information about people dan do you make any money we do we license the site to other schools and we run the site and provide it for them for the semester for all of their students we actually create a customized site for their school so it feels like personal you know personal customized site that there's not some sketchy dating site that that people might not use but really feels like something that everyone the community can do and we have between 70 and 90% of all the schools were on are on the site okay dan Stillman Mark Zuckerberg with us talking about the online social networking business do stay with us bullseye continues on CNBC right after this hey there thanks for checking out CNBC on YouTube be sure to subscribe to stay up-to-date on all of the day's biggest stories you can also click on any of the videos around me to watch the latest from CNBC thanks for watching\"\"\""
   ]
  },
  {
   "cell_type": "code",
   "execution_count": 3,
   "metadata": {},
   "outputs": [
    {
     "name": "stdout",
     "output_type": "stream",
     "text": [
      "And now there's a new form of cyber matchmaking College. Networking websites is this perhaps the next big thing in Hartford, Dan, Stillman, co-creator of Lesley in University's, West, match.com and then in Watertown, Massachusetts, Mark, Zuckerberg, creative creator of Harvard's, the facebook.com and I. Guess we'll start with you Dan? What compelled you to do this? Oh well, sophomore year, I was sitting around contemplating a romantic dry spell and I realized that with my friend Matt, and he realized that it would be easier to find a girlfriend if I could just search in a database for what I wanted. Did it work one two we're still perfecting it. That's what West matches right. This is something where people enter all of their information on questionnaires that they kind of fill out for you to it's just a little bit about what West matches sure people, students at our school and now several other schools lay a log onto the site and the answer: an in-depth and humorous questionnaire about what they're looking for and others and they describe themselves and they say what's important and then our site comes back and tells them they're most compatible. People in the entire school and now since we've started expanding to other schools, they can now test a compatibility and do other things with students across the nation. Okay mark. We want to get you in here a second but real quickly. We do want to talk about what Dan's talking about some of those questionnaires that that you ask people about. Let's just take a look real quickly at some of them. First of all, one of the potential questions, awareness of current events- and you could check off one of these George Bush- was that guy. That did that thing with that intern. Well, like I, read the news on occasion and I read the news every day, so there's some of the evaluation of what's going on mark. If somebody was to put the question to you about the the magnitude of what you think you've launched, how big do you think your product or your service is well it's impossible to tell when we first launched, we were hoping for you know. Maybe four hundred five hundred people Harvard didn't have a Facebook. So that's the gap that we were trying to fill and now we're at a hundred thousand people. So who knows where we're going next we're hoping to have many more universities by the fall? Hopefully over a hundred or two hundred and four there we're going to launch a bunch of sad applications which should keep people coming back to the site and maybe could make something cool. What is the Facebook exactly it's an online directory that connects people through universities and colleges through their social networks? There you sign on you, make a profile about yourself by answering some questions and during some information, such as your concentration or major at school contact information about phone numbers, instant messaging screen names. Anything you want to tell interests what books you like movies and, most importantly, who your friends are and then you can browse around and see you. People's friends are and just check out people's online identities and see how people portray themselves and just find some interesting information about people dan. Do you make any money? We do we license the site to other schools and we run the site and provide it for them for the semester for all of their students, we actually create a customized site for their school, so it feels like personal. You know personal customized site that there's not some sketchy dating site that that people might not use but really feels like something that everyone the community can do and we have between 70 and 90% of all the schools were on are on the site: okay, dan Stillman, Mark Zuckerberg with us talking about the online social networking business do stay with us. Bullseye continues on CNBC right after this hey there, thanks for checking out CNBC on YouTube be sure to subscribe to stay up-to-date on all of the day's biggest stories. You can also click on any of the videos around me to watch the latest from CNBC. Thanks for watching.\n"
     ]
    }
   ],
   "source": [
    "#Download from: https://drive.google.com/uc?id=0B7BsN5f2F1fZd1Q0aXlrUDhDbnM\n",
    "\n",
    "p = Punctuator('Demo-Europarl-EN.pcl')\n",
    "# with open('test.txt', 'r') as f:\n",
    "#     text_ = f.read()\n",
    "print(p.punctuate(text_))"
   ]
  }
 ],
 "metadata": {
  "kernelspec": {
   "display_name": "Python 3",
   "language": "python",
   "name": "python3"
  },
  "language_info": {
   "codemirror_mode": {
    "name": "ipython",
    "version": 3
   },
   "file_extension": ".py",
   "mimetype": "text/x-python",
   "name": "python",
   "nbconvert_exporter": "python",
   "pygments_lexer": "ipython3",
   "version": "3.7.3"
  }
 },
 "nbformat": 4,
 "nbformat_minor": 4
}
